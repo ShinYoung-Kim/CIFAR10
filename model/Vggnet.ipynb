{
  "cells": [
    {
      "cell_type": "markdown",
      "metadata": {
        "colab_type": "text",
        "id": "view-in-github"
      },
      "source": [
        "<a href=\"https://colab.research.google.com/github/sabin5105/CIFAR10/blob/main/model/Cnn.ipynb\" target=\"_parent\"><img src=\"https://colab.research.google.com/assets/colab-badge.svg\" alt=\"Open In Colab\"/></a>"
      ]
    },
    {
      "cell_type": "code",
      "execution_count": null,
      "metadata": {
        "id": "upGlEpMshgut"
      },
      "outputs": [],
      "source": [
        "import tensorflow as tf\n",
        "\n",
        "from tensorflow.keras import datasets, layers, models"
      ]
    },
    {
      "cell_type": "code",
      "execution_count": null,
      "metadata": {
        "id": "hkxZtSsxhmNn"
      },
      "outputs": [],
      "source": [
        "(train_datas, train_labels), (test_datas, test_labels) = datasets.cifar10.load_data()\n",
        "\n",
        "train_datas, test_datas = train_datas / 255, test_datas / 255"
      ]
    },
    {
      "cell_type": "code",
      "execution_count": null,
      "metadata": {
        "id": "IMdR2AsxhnKd"
      },
      "outputs": [],
      "source": [
        "model = models.Sequential([\n",
        "    layers.Conv2D(32, (3, 3), activation='relu', input_shape=(32, 32, 3)),\n",
        "    layers.MaxPooling2D((2, 2)),\n",
        "    layers.Conv2D(64, (3, 3), activation='relu'),\n",
        "    layers.MaxPooling2D((2, 2)),\n",
        "    layers.Conv2D(64, (3, 3), activation='relu')\n",
        "])"
      ]
    },
    {
      "cell_type": "code",
      "execution_count": null,
      "metadata": {
        "colab": {
          "base_uri": "https://localhost:8080/"
        },
        "id": "qMdkVDtRhojt",
        "outputId": "9543d930-c8a2-4089-9b18-59bf00dcae71"
      },
      "outputs": [
        {
          "name": "stdout",
          "output_type": "stream",
          "text": [
            "Model: \"sequential_5\"\n",
            "_________________________________________________________________\n",
            " Layer (type)                Output Shape              Param #   \n",
            "=================================================================\n",
            " conv2d_15 (Conv2D)          (None, 30, 30, 32)        896       \n",
            "                                                                 \n",
            " max_pooling2d_10 (MaxPoolin  (None, 15, 15, 32)       0         \n",
            " g2D)                                                            \n",
            "                                                                 \n",
            " conv2d_16 (Conv2D)          (None, 13, 13, 64)        18496     \n",
            "                                                                 \n",
            " max_pooling2d_11 (MaxPoolin  (None, 6, 6, 64)         0         \n",
            " g2D)                                                            \n",
            "                                                                 \n",
            " conv2d_17 (Conv2D)          (None, 4, 4, 64)          36928     \n",
            "                                                                 \n",
            "=================================================================\n",
            "Total params: 56,320\n",
            "Trainable params: 56,320\n",
            "Non-trainable params: 0\n",
            "_________________________________________________________________\n"
          ]
        }
      ],
      "source": [
        "model.summary()"
      ]
    },
    {
      "cell_type": "code",
      "execution_count": null,
      "metadata": {
        "id": "AcEi2YtzhrRV"
      },
      "outputs": [],
      "source": [
        "model.add(layers.Flatten())\n",
        "model.add(layers.Dense(64, activation='relu'))\n",
        "model.add(layers.Dense(10))"
      ]
    },
    {
      "cell_type": "code",
      "execution_count": null,
      "metadata": {
        "colab": {
          "base_uri": "https://localhost:8080/"
        },
        "id": "dbCwLGzKh9_S",
        "outputId": "ececef8e-e11c-4df0-bab5-a4d69516f8f9"
      },
      "outputs": [
        {
          "name": "stdout",
          "output_type": "stream",
          "text": [
            "Epoch 1/10\n",
            "196/196 [==============================] - 69s 348ms/step - loss: 1.8706 - accuracy: 0.3079 - val_loss: 1.5482 - val_accuracy: 0.4367\n",
            "Epoch 2/10\n",
            "196/196 [==============================] - 67s 342ms/step - loss: 1.4173 - accuracy: 0.4894 - val_loss: 1.3971 - val_accuracy: 0.5001\n",
            "Epoch 3/10\n",
            "196/196 [==============================] - 69s 352ms/step - loss: 1.2830 - accuracy: 0.5420 - val_loss: 1.2183 - val_accuracy: 0.5636\n",
            "Epoch 4/10\n",
            "196/196 [==============================] - 66s 335ms/step - loss: 1.1870 - accuracy: 0.5796 - val_loss: 1.1632 - val_accuracy: 0.5878\n",
            "Epoch 5/10\n",
            "196/196 [==============================] - 71s 360ms/step - loss: 1.1053 - accuracy: 0.6108 - val_loss: 1.0602 - val_accuracy: 0.6249\n",
            "Epoch 6/10\n",
            "196/196 [==============================] - 64s 328ms/step - loss: 1.0356 - accuracy: 0.6373 - val_loss: 1.0478 - val_accuracy: 0.6308\n",
            "Epoch 7/10\n",
            "196/196 [==============================] - 66s 335ms/step - loss: 0.9914 - accuracy: 0.6539 - val_loss: 1.0150 - val_accuracy: 0.6461\n",
            "Epoch 8/10\n",
            "196/196 [==============================] - 66s 336ms/step - loss: 0.9503 - accuracy: 0.6663 - val_loss: 0.9604 - val_accuracy: 0.6651\n",
            "Epoch 9/10\n",
            "196/196 [==============================] - 67s 342ms/step - loss: 0.9128 - accuracy: 0.6841 - val_loss: 0.9395 - val_accuracy: 0.6702\n",
            "Epoch 10/10\n",
            "196/196 [==============================] - 65s 333ms/step - loss: 0.8842 - accuracy: 0.6935 - val_loss: 0.9420 - val_accuracy: 0.6751\n"
          ]
        },
        {
          "data": {
            "text/plain": [
              "<keras.callbacks.History at 0x7f255d9a6490>"
            ]
          },
          "execution_count": 53,
          "metadata": {},
          "output_type": "execute_result"
        }
      ],
      "source": [
        "from tensorflow.keras import losses, optimizers\n",
        "\n",
        "model.compile(\n",
        "    loss=losses.SparseCategoricalCrossentropy(from_logits=True),\n",
        "    optimizer=optimizers.Adam(),\n",
        "    metrics=[\"accuracy\"],\n",
        ")\n",
        "\n",
        "model.fit(\n",
        "    train_datas, train_labels,\n",
        "    validation_data=(test_datas, test_labels),\n",
        "    batch_size=256,\n",
        "    epochs=10\n",
        ")"
      ]
    },
    {
      "cell_type": "code",
      "execution_count": null,
      "metadata": {
        "colab": {
          "base_uri": "https://localhost:8080/"
        },
        "id": "pDU3T8RStaX1",
        "outputId": "772b1d9c-f2d7-4bc1-8ac5-7ffbc967b534"
      },
      "outputs": [
        {
          "name": "stdout",
          "output_type": "stream",
          "text": [
            "313/313 [==============================] - 5s 16ms/step\n"
          ]
        }
      ],
      "source": [
        "pred = model.predict(test_datas)"
      ]
    },
    {
      "cell_type": "code",
      "execution_count": null,
      "metadata": {
        "colab": {
          "base_uri": "https://localhost:8080/"
        },
        "id": "shpl6MeokiNN",
        "outputId": "74fae46f-e032-4d14-de0d-d920001625a5"
      },
      "outputs": [
        {
          "name": "stdout",
          "output_type": "stream",
          "text": [
            "Accuracy:  0.6751\n",
            "F1 Score:  0.6753794087352817\n",
            "Recall:  0.6751\n",
            "Precision:  0.6865722539508263\n",
            "----------------------------------------------------------------------\n"
          ]
        }
      ],
      "source": [
        "# accuracy\n",
        "from sklearn.metrics import *\n",
        "import numpy as np\n",
        "\n",
        "pred = np.argmax(pred, axis = 1)\n",
        "print(\"Accuracy: \", accuracy_score(test_labels, pred))\n",
        "print(\"F1 Score: \", f1_score(test_labels, pred, average='macro'))\n",
        "print(\"Recall: \", recall_score(test_labels, pred, average='macro'))\n",
        "print(\"Precision: \", precision_score(test_labels, pred, average='macro'))\n",
        "print(\"-\"*70)"
      ]
    },
    {
      "cell_type": "code",
      "execution_count": null,
      "metadata": {
        "colab": {
          "base_uri": "https://localhost:8080/",
          "height": 621
        },
        "id": "QdXwGhOzt2Ps",
        "outputId": "654f5a58-ec7d-4af0-acf8-9224add3ba7f"
      },
      "outputs": [
        {
          "data": {
            "image/png": "[encoded data removed]",
            "text/plain": [
              "<Figure size 720x720 with 2 Axes>"
            ]
          },
          "metadata": {
            "needs_background": "light"
          },
          "output_type": "display_data"
        }
      ],
      "source": [
        "# visualize confusion matrix\n",
        "import matplotlib.pyplot as plt\n",
        "import seaborn as sns\n",
        "\n",
        "cm = confusion_matrix(test_labels, pred)\n",
        "plt.figure(figsize=(10, 10))\n",
        "sns.heatmap(cm, annot=True, fmt=\"d\", cmap='Greys')\n",
        "plt.title(\"Confusion matrix\")\n",
        "plt.ylabel('True label')\n",
        "plt.xlabel('Predicted label')\n",
        "plt.show()"
      ]
    },
    {
      "cell_type": "code",
      "execution_count": null,
      "metadata": {
        "colab": {
          "base_uri": "https://localhost:8080/"
        },
        "id": "Xm7W8yIXjnGf",
        "outputId": "58134ef7-095f-4c0e-94a2-8ac9f62ce2b8"
      },
      "outputs": [
        {
          "name": "stdout",
          "output_type": "stream",
          "text": [
            "Classification Report:                precision    recall  f1-score   support\n",
            "\n",
            "           0       0.72      0.72      0.72      1000\n",
            "           1       0.86      0.72      0.79      1000\n",
            "           2       0.55      0.58      0.56      1000\n",
            "           3       0.49      0.50      0.50      1000\n",
            "           4       0.56      0.72      0.63      1000\n",
            "           5       0.67      0.50      0.57      1000\n",
            "           6       0.71      0.80      0.75      1000\n",
            "           7       0.79      0.67      0.73      1000\n",
            "           8       0.68      0.86      0.76      1000\n",
            "           9       0.84      0.68      0.75      1000\n",
            "\n",
            "    accuracy                           0.68     10000\n",
            "   macro avg       0.69      0.68      0.68     10000\n",
            "weighted avg       0.69      0.68      0.68     10000\n",
            "\n"
          ]
        }
      ],
      "source": [
        "from sklearn.metrics import classification_report\n",
        "print(\"Classification Report: \", classification_report(test_labels, pred))"
      ]
    }
  ],
  "metadata": {
    "colab": {
      "authorship_tag": "ABX9TyPPj0sIJs7j9BSmdMFw+7Et",
      "collapsed_sections": [],
      "include_colab_link": true,
      "provenance": []
    },
    "kernelspec": {
      "display_name": "Python 3.9.13 ('ML')",
      "language": "python",
      "name": "python3"
    },
    "language_info": {
      "name": "python",
      "version": "3.9.13"
    },
    "vscode": {
      "interpreter": {
        "hash": "19d29624fa02f72a2f2eb64b5fa4dfbc751609e2b6c88be691c0db207c64cc14"
      }
    }
  },
  "nbformat": 4,
  "nbformat_minor": 0
}
